{
  "nbformat": 4,
  "nbformat_minor": 0,
  "metadata": {
    "colab": {
      "name": "intro.ipynb",
      "provenance": [],
      "collapsed_sections": []
    },
    "kernelspec": {
      "name": "python3",
      "display_name": "Python 3"
    }
  },
  "cells": [
    {
      "cell_type": "code",
      "metadata": {
        "id": "jtlfQHoI2So1",
        "colab_type": "code",
        "colab": {
          "base_uri": "https://localhost:8080/",
          "height": 34
        },
        "outputId": "18446b3f-ec2c-4bc9-f128-f4b4c4a4338c"
      },
      "source": [
        "\n",
        "\n",
        "print(\"hello world\")\n",
        "sum = 0\n",
        "for i in range(20):\n",
        "  sum += i \n",
        "\n",
        "\n"
      ],
      "execution_count": null,
      "outputs": [
        {
          "output_type": "stream",
          "text": [
            "hello world\n"
          ],
          "name": "stdout"
        }
      ]
    },
    {
      "cell_type": "code",
      "metadata": {
        "id": "_fmNkJ_K3D45",
        "colab_type": "code",
        "colab": {
          "base_uri": "https://localhost:8080/",
          "height": 34
        },
        "outputId": "660eeedf-f42c-4df6-8562-341d454e414f"
      },
      "source": [
        "sum = 2*sum \n",
        "print(sum)"
      ],
      "execution_count": null,
      "outputs": [
        {
          "output_type": "stream",
          "text": [
            "380\n"
          ],
          "name": "stdout"
        }
      ]
    },
    {
      "cell_type": "code",
      "metadata": {
        "id": "MjYWduKBR1bJ",
        "colab_type": "code",
        "colab": {}
      },
      "source": [
        "def summation(k):\n",
        "  #returns summation of all the positive numbers bounded by k\n",
        "  sum = 0\n",
        "  num = 1\n",
        "  while num <= k:\n",
        "    sum += num \n",
        "    num += 1\n",
        "  return sum\n"
      ],
      "execution_count": null,
      "outputs": []
    }
  ]
}